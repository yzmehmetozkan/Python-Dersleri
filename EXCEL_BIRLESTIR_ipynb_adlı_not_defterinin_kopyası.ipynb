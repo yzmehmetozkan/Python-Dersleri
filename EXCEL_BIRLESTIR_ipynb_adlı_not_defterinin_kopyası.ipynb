{
  "nbformat": 4,
  "nbformat_minor": 0,
  "metadata": {
    "colab": {
      "provenance": [],
      "toc_visible": true,
      "authorship_tag": "ABX9TyORXq5Q6uQT7Qr1QNUuvtv+",
      "include_colab_link": true
    },
    "kernelspec": {
      "name": "python3",
      "display_name": "Python 3"
    },
    "language_info": {
      "name": "python"
    }
  },
  "cells": [
    {
      "cell_type": "markdown",
      "metadata": {
        "id": "view-in-github",
        "colab_type": "text"
      },
      "source": [
        "<a href=\"https://colab.research.google.com/github/yzmehmetozkan/Python-Dersleri/blob/main/EXCEL_BIRLESTIR_ipynb_adl%C4%B1_not_defterinin_kopyas%C4%B1.ipynb\" target=\"_parent\"><img src=\"https://colab.research.google.com/assets/colab-badge.svg\" alt=\"Open In Colab\"/></a>"
      ]
    },
    {
      "cell_type": "code",
      "execution_count": null,
      "metadata": {
        "id": "h5fisafTFnwe"
      },
      "outputs": [],
      "source": [
        "import pandas as pd\n",
        "import os"
      ]
    },
    {
      "cell_type": "code",
      "source": [
        "# Google Drive'ı bağla\n",
        "from google.colab import drive\n",
        "drive.mount('/content/drive')"
      ],
      "metadata": {
        "colab": {
          "base_uri": "https://localhost:8080/"
        },
        "id": "ldoJGgMaFv-L",
        "outputId": "291ead8f-c470-4f36-a44c-9629f3ac41d2"
      },
      "execution_count": null,
      "outputs": [
        {
          "output_type": "stream",
          "name": "stdout",
          "text": [
            "Drive already mounted at /content/drive; to attempt to forcibly remount, call drive.mount(\"/content/drive\", force_remount=True).\n"
          ]
        }
      ]
    },
    {
      "cell_type": "code",
      "source": [
        "# Birleştirmek istediğiniz dosyaların bulunduğu klasörü belirtin\n",
        "klasor_yolu = ''\n",
        "klasor_yolu = '/content/drive/My Drive/BIREXCEL/'\n",
        "print(\"dosya_listesi : \", dosya_listesi)"
      ],
      "metadata": {
        "colab": {
          "base_uri": "https://localhost:8080/"
        },
        "id": "5GF6tHg9F7LQ",
        "outputId": "c9b45abd-c33f-4f14-ba91-b203f0792867"
      },
      "execution_count": null,
      "outputs": [
        {
          "output_type": "stream",
          "name": "stdout",
          "text": [
            "dosya_listesi :  ['6 NOLU ŞB.xlsx', '5 NOLU ŞB.xlsx', '4 NOLU ŞB.xlsx']\n"
          ]
        }
      ]
    },
    {
      "cell_type": "code",
      "source": [
        "# Birleştirilecek Excel dosyalarını listele\n",
        "dosya_listesi = os.listdir(klasor_yolu)\n",
        "print(\"dosya_listesi : \", dosya_listesi)"
      ],
      "metadata": {
        "colab": {
          "base_uri": "https://localhost:8080/"
        },
        "id": "LnmsYxbMF7WK",
        "outputId": "628e55a2-28c1-4021-9da1-5da01c5f23ca"
      },
      "execution_count": null,
      "outputs": [
        {
          "output_type": "stream",
          "name": "stdout",
          "text": [
            "dosya_listesi :  ['6 NOLU ŞB.xlsx', '5 NOLU ŞB.xlsx', '4 NOLU ŞB.xlsx']\n"
          ]
        }
      ]
    },
    {
      "cell_type": "code",
      "source": [
        "# Birleştirilecek verileri depolamak için boş bir DataFrame oluştur\n",
        "birlesik_veri = pd.DataFrame()"
      ],
      "metadata": {
        "id": "YkfI7KVxGVfU"
      },
      "execution_count": null,
      "outputs": []
    },
    {
      "cell_type": "code",
      "source": [
        "print(\"birlesik_veri : \", birlesik_veri)"
      ],
      "metadata": {
        "colab": {
          "base_uri": "https://localhost:8080/"
        },
        "id": "cVUiIApgGn-S",
        "outputId": "80712ede-1cba-408f-c37c-073bd61251e9"
      },
      "execution_count": null,
      "outputs": [
        {
          "output_type": "stream",
          "name": "stdout",
          "text": [
            "birlesik_veri :  Empty DataFrame\n",
            "Columns: []\n",
            "Index: []\n"
          ]
        }
      ]
    },
    {
      "cell_type": "code",
      "source": [
        "print(dosya_yolu)"
      ],
      "metadata": {
        "colab": {
          "base_uri": "https://localhost:8080/"
        },
        "id": "asIemgY9GB6k",
        "outputId": "bc9836aa-a462-4ffb-848d-db61af73e86e"
      },
      "execution_count": null,
      "outputs": [
        {
          "output_type": "stream",
          "name": "stdout",
          "text": [
            "/content/drive/My Drive/BIREXCEL/4 NOLU ŞB.xlsx\n"
          ]
        }
      ]
    },
    {
      "cell_type": "code",
      "source": [
        "# Her Excel dosyasını oku ve birleştir\n",
        "for dosya in dosya_listesi:\n",
        "    if dosya.endswith('.xlsx'):  # Sadece Excel dosyalarını işle\n",
        "        dosya_yolu = os.path.join(klasor_yolu, dosya)\n",
        "        veri = pd.read_excel(dosya_yolu)\n",
        "        birlesik_veri = pd.concat([birlesik_veri, veri], ignore_index=True)\n",
        "\n"
      ],
      "metadata": {
        "id": "ENnBbf8EF7aI"
      },
      "execution_count": null,
      "outputs": []
    },
    {
      "cell_type": "code",
      "source": [
        "print(\" birlesik_veri :\",  birlesik_veri)"
      ],
      "metadata": {
        "colab": {
          "base_uri": "https://localhost:8080/"
        },
        "id": "Sq7CZmOkF7dX",
        "outputId": "56c00cc1-46b1-4f83-cee6-bdb6d9e2403f"
      },
      "execution_count": null,
      "outputs": [
        {
          "output_type": "stream",
          "name": "stdout",
          "text": [
            " birlesik_veri :      SUBE_KODU              KAYIT_TIPI        BARKOD  \\\n",
            "0            6         DİĞER MENKULLER  100000025134   \n",
            "1            6         DİĞER MENKULLER  100000025141   \n",
            "2            6  BİLGİ İŞLEM MAKİNALARI  100000025010   \n",
            "3            6  BİLGİ İŞLEM MAKİNALARI  100000025181   \n",
            "4            6         DİĞER MAKİNALAR  100000025212   \n",
            "..         ...                     ...           ...   \n",
            "848          4                     NaN  100000017122   \n",
            "849          4                     NaN  100000017126   \n",
            "850          4                     NaN  100000016989   \n",
            "851          4                     NaN  HZ1000000008   \n",
            "852          4                     NaN  HZ1000000007   \n",
            "\n",
            "                                 URUN_ADI  AKTIFE_GIRIS_TARIHI  \\\n",
            "0                                     ATM                42308   \n",
            "1                     KAMERA KAYIT CİHAZI                42308   \n",
            "2                      Dizüstü Bilgisayar                44711   \n",
            "3                     Masaüstü Bilgisayar                42308   \n",
            "4                   Para Sayma Makineleri                42277   \n",
            "..                                    ...                  ...   \n",
            "848  Yönetici Odası İkili Misafir Koltuğu                42370   \n",
            "849                      Yönetici Sehpası                42370   \n",
            "850                          Yüksek Dolap                42370   \n",
            "851                       Hizmet Araçları                42370   \n",
            "852                       Hizmet Araçları                42370   \n",
            "\n",
            "    VUK_HESAPLAMA_PERIYODU  VUK_AMORTISMAN_ORANI  VUK_URUN_OMRU  \\\n",
            "0                  1;Aylık                  10.0             10   \n",
            "1                  1;Aylık                  10.0             10   \n",
            "2                  1;Aylık                  25.0              4   \n",
            "3                  1;Aylık                  25.0              4   \n",
            "4                  1;Aylık                  20.0              5   \n",
            "..                     ...                   ...            ...   \n",
            "848                1;Aylık                  20.0              5   \n",
            "849                1;Aylık                  20.0              5   \n",
            "850                1;Aylık                  20.0              5   \n",
            "851                1;Aylık                  20.0              5   \n",
            "852                1;Aylık                  20.0              5   \n",
            "\n",
            "     VUK_SON_AMORTISMAN_AYIRMA_TARIHI  VUK_ILK_EDINIM_BEDELI  \\\n",
            "0                               44834                    NaN   \n",
            "1                               44834                    NaN   \n",
            "2                               44834                    NaN   \n",
            "3                               44834                    NaN   \n",
            "4                               44834                    NaN   \n",
            "..                                ...                    ...   \n",
            "848                             44834                   0.01   \n",
            "849                             44834                   0.01   \n",
            "850                             44834                   0.01   \n",
            "851                             44834                    NaN   \n",
            "852                             44834                    NaN   \n",
            "\n",
            "     VUK_AMORTISMANA_TABI_TUTAR  VUK_BIRIKMIS_AMORTISMAN  \\\n",
            "0                           NaN                      NaN   \n",
            "1                           NaN                      NaN   \n",
            "2                           NaN                      NaN   \n",
            "3                           NaN                      NaN   \n",
            "4                           NaN                      NaN   \n",
            "..                          ...                      ...   \n",
            "848                        0.01                     0.01   \n",
            "849                        0.01                     0.01   \n",
            "850                        0.01                     0.01   \n",
            "851                         NaN                     0.01   \n",
            "852                         NaN                     0.01   \n",
            "\n",
            "     VUK_NET_DEFTER_DEGERI  \n",
            "0                      NaN  \n",
            "1                      NaN  \n",
            "2                      NaN  \n",
            "3                      NaN  \n",
            "4                      NaN  \n",
            "..                     ...  \n",
            "848                   0.00  \n",
            "849                   0.00  \n",
            "850                   0.00  \n",
            "851                  -0.01  \n",
            "852                  -0.01  \n",
            "\n",
            "[853 rows x 13 columns]\n"
          ]
        }
      ]
    },
    {
      "cell_type": "code",
      "source": [
        "# Birleştirilmiş veriyi tek bir Excel dosyasına yaz\n",
        "birlesen_dosya_yolu = '/content/drive/My Drive/BIREXCEL/birlesen.xlsx'\n",
        "birlesik_veri.to_excel(birlesen_dosya_yolu, index=False)\n",
        "\n",
        "print(\"Veriler başarıyla birleştirildi ve 'birlesen.xlsx' adlı dosyaya kaydedildi.\")"
      ],
      "metadata": {
        "colab": {
          "base_uri": "https://localhost:8080/"
        },
        "id": "aSKPkxw_F7hs",
        "outputId": "7da425c7-38b2-4c65-feb1-6261df84d581"
      },
      "execution_count": null,
      "outputs": [
        {
          "output_type": "stream",
          "name": "stdout",
          "text": [
            "Veriler başarıyla birleştirildi ve 'birlesen.xlsx' adlı dosyaya kaydedildi.\n"
          ]
        }
      ]
    },
    {
      "cell_type": "code",
      "source": [
        "#------------------------------------------------------------#"
      ],
      "metadata": {
        "id": "T0NTGBIcKwxl"
      },
      "execution_count": null,
      "outputs": []
    },
    {
      "cell_type": "code",
      "source": [
        "#                      KOD SONU                              #\n",
        "#------------------------------------------------------------#"
      ],
      "metadata": {
        "id": "0gte81JsKzU8"
      },
      "execution_count": null,
      "outputs": []
    },
    {
      "cell_type": "code",
      "source": [
        "import pandas as pd\n",
        "import os\n",
        "\n",
        "# Google Drive'ı bağla\n",
        "from google.colab import drive\n",
        "drive.mount('/content/drive')\n",
        "\n",
        "# Birleştirmek istediğiniz dosyaların bulunduğu klasörü belirtin\n",
        "klasor_yolu = '/content/drive/My Drive/dosya_klasoru/'\n",
        "\n",
        "# Birleştirilecek Excel dosyalarını listele\n",
        "dosya_listesi = os.listdir(klasor_yolu)\n",
        "\n",
        "# Birleştirilecek verileri depolamak için boş bir DataFrame oluştur\n",
        "birlesik_veri = pd.DataFrame()\n",
        "\n",
        "# Her Excel dosyasını oku ve birleştir\n",
        "for dosya in dosya_listesi:\n",
        "    if dosya.endswith('.xlsx'):  # Sadece Excel dosyalarını işle\n",
        "        dosya_yolu = os.path.join(klasor_yolu, dosya)\n",
        "        veri = pd.read_excel(dosya_yolu)\n",
        "        birlesik_veri = pd.concat([birlesik_veri, veri], ignore_index=True)\n",
        "\n",
        "# Birleştirilmiş veriyi tek bir Excel dosyasına yaz\n",
        "birlesen_dosya_yolu = '/content/drive/My Drive/birlesen.xlsx'\n",
        "birlesik_veri.to_excel(birlesen_dosya_yolu, index=False)\n",
        "\n",
        "print(\"Veriler başarıyla birleştirildi ve 'birlesen.xlsx' adlı dosyaya kaydedildi.\")\n"
      ],
      "metadata": {
        "id": "qh_vt9S9FwBc"
      },
      "execution_count": null,
      "outputs": []
    },
    {
      "cell_type": "code",
      "source": [],
      "metadata": {
        "id": "j3NFvjqwHQZU"
      },
      "execution_count": null,
      "outputs": []
    },
    {
      "cell_type": "code",
      "source": [
        "import pandas as pd\n",
        "import os\n",
        "\n",
        "# Google Drive'ı bağla\n",
        "from google.colab import drive\n",
        "drive.mount('/content/drive')\n",
        "\n",
        "# Birleştirmek istediğiniz dosyaların bulunduğu klasörü belirtin\n",
        "klasor_yolu = '/content/drive/My Drive/dosya_klasoru/'\n",
        "\n",
        "# Birleştirilecek Excel dosyalarını listele\n",
        "dosya_listesi = os.listdir(klasor_yolu)\n",
        "\n",
        "# Birleştirilecek verileri depolamak için boş bir DataFrame oluştur\n",
        "birlesik_veri = pd.DataFrame()\n",
        "\n",
        "# Her Excel dosyasını oku ve birleştir\n",
        "for dosya in dosya_listesi:\n",
        "    if dosya.endswith('.xlsx'):  # Sadece Excel dosyalarını işle\n",
        "        dosya_yolu = os.path.join(klasor_yolu, dosya)\n",
        "        veri = pd.read_excel(dosya_yolu)\n",
        "        birlesik_veri = birlesik_veri.append(veri, ignore_index=True)\n",
        "\n",
        "# Birleştirilmiş veriyi tek bir Excel dosyasına yaz\n",
        "birlesen_dosya_yolu = '/content/drive/My Drive/birlesen.xlsx'\n",
        "birlesik_veri.to_excel(birlesen_dosya_yolu, index=False)\n",
        "\n",
        "print(\"Veriler başarıyla birleştirildi ve 'birlesen.xlsx' adlı dosyaya kaydedildi.\")\n"
      ],
      "metadata": {
        "id": "gQaGjzysFwEi"
      },
      "execution_count": null,
      "outputs": []
    }
  ]
}